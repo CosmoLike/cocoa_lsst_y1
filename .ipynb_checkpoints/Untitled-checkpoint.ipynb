{
 "cells": [
  {
   "cell_type": "code",
   "execution_count": 1,
   "id": "58ff1055-4c58-4311-9c79-9f9b9ea72538",
   "metadata": {},
   "outputs": [
    {
     "name": "stdout",
     "output_type": "stream",
     "text": [
      "3.9.19 | packaged by conda-forge | (main, Mar 20 2024, 12:50:21) \n",
      "[GCC 12.3.0]\n"
     ]
    }
   ],
   "source": [
    "%matplotlib inline\n",
    "%config InlineBackend.figure_format = 'retina'\n",
    "import sys, platform, os\n",
    "from matplotlib import pyplot as plt\n",
    "import numpy as np\n",
    "print(sys.version)"
   ]
  },
  {
   "cell_type": "code",
   "execution_count": 2,
   "id": "2a61e954-5f25-439f-95cd-c116d37ac751",
   "metadata": {},
   "outputs": [
    {
     "name": "stdout",
     "output_type": "stream",
     "text": [
      "Using CAMB 1.5.5 installed at /home/vivianmiranda/extra_data/Vivian/Cocoa2024/cocoa/Cocoa/external_modules/code/CAMB/build/lib.linux-x86_64-3.9/camb\n"
     ]
    }
   ],
   "source": [
    "# IMPORT CAMB\n",
    "sys.path.insert(0, os.environ['ROOTDIR']+'/external_modules/code/CAMB/build/lib.linux-x86_64-'+os.environ['PYTHON_VERSION'])\n",
    "import camb\n",
    "print('Using CAMB %s installed at %s'%(camb.__version__,os.path.dirname(camb.__file__)))"
   ]
  },
  {
   "cell_type": "code",
   "execution_count": 12,
   "id": "0d2dbc3d-f15f-4ed1-8ea1-c83b32da4065",
   "metadata": {},
   "outputs": [],
   "source": [
    "As_1e9 = 2.1\n",
    "ns = 0.96605\n",
    "H0 = 67.32\n",
    "omegab = 0.04\n",
    "omegam = 0.3\n",
    "mnu = 0.06\n",
    "LSST_DZ_S1 = 0.0414632\n",
    "LSST_DZ_S2 = 0.00147332\n",
    "LSST_DZ_S3 = 0.0237035\n",
    "LSST_DZ_S4 = -0.0773436\n",
    "LSST_DZ_S5 = -8.67127e-05\n",
    "LSST_M1 = 0.0191832\n",
    "LSST_M2 = -0.0431752\n",
    "LSST_M3 = -0.034961\n",
    "LSST_M4 = -0.0158096\n",
    "LSST_M5 = -0.0158096\n",
    "LSST_A1_1 = 0.606102\n",
    "LSST_A1_2 = -1.51541\n",
    "w0pwa = -0.9\n",
    "w = -0.9\n",
    "\n",
    "As = lambda As_1e9: 1e-9 * As_1e9\n",
    "wa = lambda w0pwa, w: w0pwa - w\n",
    "omegabh2 = lambda omegab, H0: omegab*(H0/100)**2\n",
    "omegach2 = lambda omegam, omegab, mnu, H0: (omegam-omegab)*(H0/100)**2-(mnu*(3.046/3)**0.75)/94.0708\n",
    "omegamh2 = lambda omegam, H0: omegam*(H0/100)**2"
   ]
  },
  {
   "cell_type": "code",
   "execution_count": 16,
   "id": "c278d83b-2e60-4a65-a8b3-ea31c9a104ef",
   "metadata": {},
   "outputs": [],
   "source": [
    "pars = camb.set_params(\n",
    "    H0=H0, \n",
    "    ombh2=omegabh2(omegab, H0), \n",
    "    omch2=omegach2(omegam, omegab, mnu, H0), \n",
    "    mnu=mnu, \n",
    "    omk=0, \n",
    "    tau=0.06,  \n",
    "    As=As(As_1e9), \n",
    "    ns=ns, \n",
    "    halofit_version='takahashi', \n",
    "    lmax=100,\n",
    "    AccuracyBoost=1.1,\n",
    "    lens_potential_accuracy=1.0,\n",
    "    num_massive_neutrinos=1,\n",
    "    nnu=3.046,\n",
    "    dark_energy_model='ppf',\n",
    "    accurate_massive_neutrino_transfers=False,\n",
    "    k_per_logint=20\n",
    ")"
   ]
  },
  {
   "cell_type": "code",
   "execution_count": null,
   "id": "f329c674-e580-477d-a22e-999703e5f81a",
   "metadata": {},
   "outputs": [],
   "source": []
  }
 ],
 "metadata": {
  "kernelspec": {
   "display_name": "Python 3 (ipykernel)",
   "language": "python",
   "name": "python3"
  },
  "language_info": {
   "codemirror_mode": {
    "name": "ipython",
    "version": 3
   },
   "file_extension": ".py",
   "mimetype": "text/x-python",
   "name": "python",
   "nbconvert_exporter": "python",
   "pygments_lexer": "ipython3",
   "version": "3.9.19"
  }
 },
 "nbformat": 4,
 "nbformat_minor": 5
}
